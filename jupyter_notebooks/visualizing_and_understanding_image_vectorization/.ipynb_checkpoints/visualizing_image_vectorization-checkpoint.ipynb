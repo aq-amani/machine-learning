{
 "cells": [
  {
   "cell_type": "code",
   "execution_count": 1,
   "metadata": {},
   "outputs": [
    {
     "name": "stdout",
     "output_type": "stream",
     "text": [
      "all_pics is an array of of 5 pics, each 2x4 pixels x 3 channels\n",
      "numpy shape is (5, 2, 4, 3)\n"
     ]
    }
   ],
   "source": [
    "import numpy as np\n",
    "import matplotlib.pyplot as plt\n",
    "\n",
    "pic1 = np.array([[[0, 255, 255], [255, 0, 0], [0, 255, 0], [0, 0, 255]], [[255, 255, 0], [0, 0, 0], [255, 255, 255], [0, 255, 255]]])\n",
    "pic2 = pic1 // 2\n",
    "pic3 = pic1 // 3\n",
    "pic4 = pic1 // 4\n",
    "pic5 = pic1 // 5\n",
    "# Array of 5 pics, each 2x4 pixels x 3 channels\n",
    "all_pics = np.array([pic1, pic2, pic3, pic4, pic5])\n",
    "print(f'all_pics is an array of of 5 pics, each 2x4 pixels x 3 channels\\nnumpy shape is {all_pics.shape}')"
   ]
  },
  {
   "cell_type": "code",
   "execution_count": 2,
   "metadata": {},
   "outputs": [
    {
     "name": "stdout",
     "output_type": "stream",
     "text": [
      "printing numpy array of one picture and showing it\n",
      "[[[  0 255 255]\n",
      "  [255   0   0]\n",
      "  [  0 255   0]\n",
      "  [  0   0 255]]\n",
      "\n",
      " [[255 255   0]\n",
      "  [  0   0   0]\n",
      "  [255 255 255]\n",
      "  [  0 255 255]]]\n"
     ]
    },
    {
     "data": {
      "image/png": "[encoded data removed]",
      "text/plain": [
       "<Figure size 640x480 with 1 Axes>"
      ]
     },
     "metadata": {},
     "output_type": "display_data"
    }
   ],
   "source": [
    "print('printing numpy array of one picture and showing it')\n",
    "print(all_pics[0])\n",
    "plt.imshow(all_pics[0])\n",
    "plt.show()"
   ]
  },
  {
   "cell_type": "markdown",
   "metadata": {},
   "source": [
    "### Numpy array printout of an image VS the visualization of the image\n",
    "Below is the relationship between the pixel positions on an image and how the numpy array print out of it looks like.\n",
    "\n",
    "<img src=\"./numpy_img.png\" width=\"600\"/>"
   ]
  },
  {
   "cell_type": "code",
   "execution_count": 3,
   "metadata": {},
   "outputs": [
    {
     "name": "stdout",
     "output_type": "stream",
     "text": [
      "reshaping one pic into a vector\n",
      "[[  0 255 255 255   0   0   0 255   0   0   0 255 255 255   0   0   0   0\n",
      "  255 255 255   0 255 255]]\n"
     ]
    }
   ],
   "source": [
    "print('reshaping one pic into a vector')\n",
    "print(all_pics[0].reshape(1,-1))"
   ]
  },
  {
   "cell_type": "markdown",
   "metadata": {},
   "source": [
    "### How image reshaping into a vector works (order)\n",
    "\n",
    "With reference to the numpy array print out, it takes elements in the left -> right, up->down order.\n",
    "\n",
    "With reference to the image when visualized as 3 channels on top of each other, it works as in the picture below.\n",
    "\n",
    "<img src=\"./img_vectorization.png\" width=\"600\"/>"
   ]
  },
  {
   "cell_type": "code",
   "execution_count": 4,
   "metadata": {},
   "outputs": [
    {
     "name": "stdout",
     "output_type": "stream",
     "text": [
      "Reshaping the whole all_pics array into an array of vectorized images\n",
      "Each column is one vectorized (unrolled) image\n",
      "**Having the channel pixels of each image in one column (instead of a row)\n",
      "makes it easy to visualize feeding them to a neural network,\n",
      "where we need one neuron per pixel in the first layer\n",
      "[[  0   0   0   0   0]\n",
      " [255 127  85  63  51]\n",
      " [255 127  85  63  51]\n",
      " [255 127  85  63  51]\n",
      " [  0   0   0   0   0]\n",
      " [  0   0   0   0   0]\n",
      " [  0   0   0   0   0]\n",
      " [255 127  85  63  51]\n",
      " [  0   0   0   0   0]\n",
      " [  0   0   0   0   0]\n",
      " [  0   0   0   0   0]\n",
      " [255 127  85  63  51]\n",
      " [255 127  85  63  51]\n",
      " [255 127  85  63  51]\n",
      " [  0   0   0   0   0]\n",
      " [  0   0   0   0   0]\n",
      " [  0   0   0   0   0]\n",
      " [  0   0   0   0   0]\n",
      " [255 127  85  63  51]\n",
      " [255 127  85  63  51]\n",
      " [255 127  85  63  51]\n",
      " [  0   0   0   0   0]\n",
      " [255 127  85  63  51]\n",
      " [255 127  85  63  51]]\n"
     ]
    }
   ],
   "source": [
    "print('Reshaping the whole all_pics array into an array of vectorized images')\n",
    "print('Each column is one vectorized (unrolled) image')\n",
    "print('**Having the channel pixels of each image in one column (instead of a row)\\n\\\n",
    "makes it easy to visualize feeding them to a neural network,\\n\\\n",
    "where we need one neuron per pixel in the first layer')\n",
    "print(all_pics.reshape(all_pics.shape[0],-1).T)\n"
   ]
  },
  {
   "cell_type": "code",
   "execution_count": null,
   "metadata": {},
   "outputs": [],
   "source": []
  }
 ],
 "metadata": {
  "kernelspec": {
   "display_name": "Python 3 (ipykernel)",
   "language": "python",
   "name": "python3"
  },
  "language_info": {
   "codemirror_mode": {
    "name": "ipython",
    "version": 3
   },
   "file_extension": ".py",
   "mimetype": "text/x-python",
   "name": "python",
   "nbconvert_exporter": "python",
   "pygments_lexer": "ipython3",
   "version": "3.10.6"
  }
 },
 "nbformat": 4,
 "nbformat_minor": 4
}
