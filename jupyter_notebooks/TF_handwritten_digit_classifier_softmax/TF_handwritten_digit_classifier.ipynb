{
 "cells": [
  {
   "cell_type": "markdown",
   "metadata": {},
   "source": [
    "## The general workflow with TensorFlow: \n",
    "\n",
    "### Construct model --> Compile model --> Fit (train) model with data --> Predict outputs"
   ]
  },
  {
   "cell_type": "code",
   "execution_count": 77,
   "metadata": {},
   "outputs": [],
   "source": [
    "# to suppress TF warnings\n",
    "import os\n",
    "os.environ['TF_CPP_MIN_LOG_LEVEL'] = '3'\n",
    "#\n",
    "import tensorflow as tf\n",
    "from tensorflow.keras.models import Sequential\n",
    "from tensorflow.keras.layers import Dense\n",
    "from tensorflow.keras.activations import linear, relu, sigmoid\n",
    "\n",
    "import numpy as np\n",
    "import matplotlib.pyplot as plt\n",
    "\n",
    "np.set_printoptions(precision=2)"
   ]
  },
  {
   "cell_type": "code",
   "execution_count": 78,
   "metadata": {},
   "outputs": [
    {
     "name": "stdout",
     "output_type": "stream",
     "text": [
      "my_softmax(z):         [0.03 0.09 0.24 0.64]\n",
      "tensorflow softmax(z): [0.03 0.09 0.24 0.64]\n"
     ]
    }
   ],
   "source": [
    "# Numpy implementation of the softmax function (generalization of logistic regression for multi-class cases)\n",
    "def my_softmax(z):  \n",
    "    \"\"\" Softmax converts a vector of values to a probability distribution.\n",
    "    Args:\n",
    "      z (ndarray (N,))  : input data, N features\n",
    "    Returns:\n",
    "      a (ndarray (N,))  : softmax of z\n",
    "    \"\"\"    \n",
    "\n",
    "    e_z = np.exp(z)\n",
    "    a = e_z / np.sum(e_z, axis=0)\n",
    "\n",
    "    return a\n",
    "\n",
    "z = np.array([1., 2., 3., 4.])\n",
    "# softmax using manual numpy implementation\n",
    "a = my_softmax(z)\n",
    "# softmax using tensorflow\n",
    "atf = tf.nn.softmax(z)\n",
    "\n",
    "print(f\"my_softmax(z):         {a}\")\n",
    "print(f\"tensorflow softmax(z): {atf}\")"
   ]
  },
  {
   "cell_type": "code",
   "execution_count": 79,
   "metadata": {},
   "outputs": [
    {
     "name": "stdout",
     "output_type": "stream",
     "text": [
      "X.shape: (5000, 400), y.shape: (5000, 1)\n",
      "X[0] image label is  [0]\n"
     ]
    },
    {
     "data": {
      "image/png": "[encoded data removed]",
      "text/plain": [
       "<Figure size 100x100 with 1 Axes>"
      ]
     },
     "metadata": {},
     "output_type": "display_data"
    }
   ],
   "source": [
    "# load dataset\n",
    "# X are 5000 images of handwritten digits, each is 20x20 pixel grayscale image, unrolled into an 400 element vector\n",
    "# y are labels for what digit each image represents\n",
    "X = np.load(\"data/X.npy\")\n",
    "y = np.load(\"data/y.npy\")\n",
    "\n",
    "# check shapes\n",
    "print(f'X.shape: {X.shape}, y.shape: {y.shape}')\n",
    "# Checkout one image and its label (reshape into original image size first, and show using a gray cmap)\n",
    "plt.figure(figsize = (1,1))\n",
    "plt.imshow(X[0].reshape(20,20), cmap='gray')\n",
    "print('X[0] image label is ', y[0])\n",
    "plt.show()"
   ]
  },
  {
   "cell_type": "markdown",
   "metadata": {},
   "source": [
    "### A function to display an image dataset in a grid with labels and optionally prediction results"
   ]
  },
  {
   "cell_type": "code",
   "execution_count": 80,
   "metadata": {},
   "outputs": [],
   "source": [
    "def show_image_grid(image_set, y, grid_w=8, grid_h=8, random_index=False, show_predictions=False):\n",
    "    \"\"\"\n",
    "    Show a sample of images a long with their labels.\n",
    "    random_index: Whether to choose images randomly from the passed image data set\n",
    "    show_predictions: whether to pass images to the model for prediction and show the prediction results too\n",
    "    grid_w, grid_h : maximum height and width of the image grid\n",
    "    \"\"\"\n",
    "    img_count = image_set.shape[0]\n",
    "    if img_count <= grid_w:\n",
    "        grid_w = img_count\n",
    "        grid_h = 1\n",
    "    else:\n",
    "        grid_h = min(int(img_count/grid_w), grid_h)\n",
    "\n",
    "    fig, axes = plt.subplots(grid_h, grid_w, figsize=(min(grid_w, 5), min(grid_h, 5)))\n",
    "    fig.tight_layout(pad=0.13,rect=[0, 0.03, 1, 0.91]) #[left, bottom, right, top]\n",
    "\n",
    "    for i,ax in enumerate(axes.flat):\n",
    "        if random_index:\n",
    "            # Select random indices\n",
    "            index = np.random.randint(img_count)\n",
    "        else:\n",
    "            index = i\n",
    "\n",
    "        # Select rows corresponding to the random indices and\n",
    "        # reshape the image\n",
    "        X_random_reshaped = image_set[index].reshape((20,20)).T\n",
    "\n",
    "        # Display the image\n",
    "        ax.imshow(X_random_reshaped, cmap='gray')\n",
    "        if(show_predictions):\n",
    "            # Predict using the Neural Network\n",
    "            prediction = model.predict(image_set[index].reshape(1,400))\n",
    "            prediction_p = tf.nn.softmax(prediction)\n",
    "            yhat = np.argmax(prediction_p)\n",
    "            # Display the label above the image\n",
    "            ax.set_title(f\"{y[index,0]},{yhat}\",fontsize=10)\n",
    "        else:\n",
    "            # Display the label above the image\n",
    "            ax.set_title(f\"{y[index,0]}\",fontsize=10)\n",
    "        ax.set_axis_off()\n",
    "    if(show_predictions):\n",
    "        fig.suptitle(\"Label, yhat\", fontsize=14)\n",
    "    else:\n",
    "        fig.suptitle(\"Label\", fontsize=14)\n",
    "    plt.show()"
   ]
  },
  {
   "cell_type": "markdown",
   "metadata": {},
   "source": [
    "### Display a sample of the images and their labels in a grid"
   ]
  },
  {
   "cell_type": "code",
   "execution_count": 81,
   "metadata": {},
   "outputs": [
    {
     "data": {
      "image/png": "[encoded data removed]",
      "text/plain": [
       "<Figure size 500x200 with 16 Axes>"
      ]
     },
     "metadata": {},
     "output_type": "display_data"
    }
   ],
   "source": [
    "# Choose images randomly and print them in a grid with their labels\n",
    "show_image_grid(X, y, grid_w=8, grid_h=2, random_index=True, show_predictions=False)"
   ]
  },
  {
   "cell_type": "markdown",
   "metadata": {},
   "source": [
    "### The NN model to use in this project\n",
    "\n",
    "    \n",
    "<img src=\"images/C2_W2_Assigment_NN.png\" width=\"600\" height=\"450\">"
   ]
  },
  {
   "cell_type": "markdown",
   "metadata": {},
   "source": [
    "- The shapes of `W`, and `b`,  are \n",
    "     - layer1: The shape of `W1` is (400, 25) and the shape of `b1` is (25,)\n",
    "     - layer2: The shape of `W2` is (25, 15) and the shape of `b2` is: (15,)\n",
    "     - layer3: The shape of `W3` is (15, 10) and the shape of `b3` is: (10,)\n",
    "               "
   ]
  },
  {
   "cell_type": "markdown",
   "metadata": {},
   "source": [
    "### Softmax placement and from_logits\n",
    "Numerical stability is improved if the softmax is grouped with the loss function rather than the output layer during training. \n",
    "\n",
    "This has implications when *building* the model and *using* the model.\n",
    "\n",
    "Building:  \n",
    "* The final Dense layer should use a 'linear' activation. This is effectively no activation. \n",
    "* The `model.compile` statement will indicate this by including `from_logits=True`.\n",
    "`loss=tf.keras.losses.SparseCategoricalCrossentropy(from_logits=True) `  \n",
    "* This does not impact the form of the target. In the case of SparseCategorialCrossentropy, the target is the expected digit, 0-9.\n",
    "\n",
    "Using the model:\n",
    "* The outputs are NOT probabilities. If output probabilities are desired, apply a softmax function."
   ]
  },
  {
   "cell_type": "markdown",
   "metadata": {},
   "source": [
    "### Construct --> Compile --> Fit"
   ]
  },
  {
   "cell_type": "code",
   "execution_count": 82,
   "metadata": {},
   "outputs": [
    {
     "name": "stdout",
     "output_type": "stream",
     "text": [
      "Model: \"my_model\"\n",
      "_________________________________________________________________\n",
      " Layer (type)                Output Shape              Param #   \n",
      "=================================================================\n",
      " dense_13 (Dense)            (None, 25)                10025     \n",
      "                                                                 \n",
      " dense_14 (Dense)            (None, 15)                390       \n",
      "                                                                 \n",
      " dense_15 (Dense)            (None, 10)                160       \n",
      "                                                                 \n",
      "=================================================================\n",
      "Total params: 10,575\n",
      "Trainable params: 10,575\n",
      "Non-trainable params: 0\n",
      "_________________________________________________________________\n",
      "Epoch 1/40\n",
      "157/157 [==============================] - 1s 3ms/step - loss: 1.5424\n",
      "Epoch 2/40\n",
      "157/157 [==============================] - 1s 3ms/step - loss: 0.5692\n",
      "Epoch 3/40\n",
      "157/157 [==============================] - 1s 3ms/step - loss: 0.3935\n",
      "Epoch 4/40\n",
      "157/157 [==============================] - 1s 3ms/step - loss: 0.3276\n",
      "Epoch 5/40\n",
      "157/157 [==============================] - 0s 3ms/step - loss: 0.2937\n",
      "Epoch 6/40\n",
      "157/157 [==============================] - 0s 3ms/step - loss: 0.2693\n",
      "Epoch 7/40\n",
      "157/157 [==============================] - 0s 3ms/step - loss: 0.2488\n",
      "Epoch 8/40\n",
      "157/157 [==============================] - 1s 3ms/step - loss: 0.2312\n",
      "Epoch 9/40\n",
      "157/157 [==============================] - 1s 3ms/step - loss: 0.2203\n",
      "Epoch 10/40\n",
      "157/157 [==============================] - 1s 3ms/step - loss: 0.2023\n",
      "Epoch 11/40\n",
      "157/157 [==============================] - 1s 4ms/step - loss: 0.1917\n",
      "Epoch 12/40\n",
      "157/157 [==============================] - 1s 4ms/step - loss: 0.1846\n",
      "Epoch 13/40\n",
      "157/157 [==============================] - 1s 3ms/step - loss: 0.1741\n",
      "Epoch 14/40\n",
      "157/157 [==============================] - 0s 3ms/step - loss: 0.1635\n",
      "Epoch 15/40\n",
      "157/157 [==============================] - 0s 3ms/step - loss: 0.1514\n",
      "Epoch 16/40\n",
      "157/157 [==============================] - 0s 3ms/step - loss: 0.1468\n",
      "Epoch 17/40\n",
      "157/157 [==============================] - 1s 3ms/step - loss: 0.1380\n",
      "Epoch 18/40\n",
      "157/157 [==============================] - 0s 3ms/step - loss: 0.1328\n",
      "Epoch 19/40\n",
      "157/157 [==============================] - 0s 3ms/step - loss: 0.1220\n",
      "Epoch 20/40\n",
      "157/157 [==============================] - 0s 3ms/step - loss: 0.1162\n",
      "Epoch 21/40\n",
      "157/157 [==============================] - 1s 3ms/step - loss: 0.1116\n",
      "Epoch 22/40\n",
      "157/157 [==============================] - 1s 3ms/step - loss: 0.1071\n",
      "Epoch 23/40\n",
      "157/157 [==============================] - 1s 3ms/step - loss: 0.1023\n",
      "Epoch 24/40\n",
      "157/157 [==============================] - 1s 3ms/step - loss: 0.0946\n",
      "Epoch 25/40\n",
      "157/157 [==============================] - 1s 3ms/step - loss: 0.0916\n",
      "Epoch 26/40\n",
      "157/157 [==============================] - 1s 3ms/step - loss: 0.0873\n",
      "Epoch 27/40\n",
      "157/157 [==============================] - 1s 3ms/step - loss: 0.0829\n",
      "Epoch 28/40\n",
      "157/157 [==============================] - 1s 3ms/step - loss: 0.0792\n",
      "Epoch 29/40\n",
      "157/157 [==============================] - 1s 4ms/step - loss: 0.0716\n",
      "Epoch 30/40\n",
      "157/157 [==============================] - 1s 3ms/step - loss: 0.0707\n",
      "Epoch 31/40\n",
      "157/157 [==============================] - 1s 3ms/step - loss: 0.0630\n",
      "Epoch 32/40\n",
      "157/157 [==============================] - 1s 3ms/step - loss: 0.0615\n",
      "Epoch 33/40\n",
      "157/157 [==============================] - 1s 3ms/step - loss: 0.0590\n",
      "Epoch 34/40\n",
      "157/157 [==============================] - 1s 3ms/step - loss: 0.0536\n",
      "Epoch 35/40\n",
      "157/157 [==============================] - 0s 3ms/step - loss: 0.0509\n",
      "Epoch 36/40\n",
      "157/157 [==============================] - 1s 3ms/step - loss: 0.0527\n",
      "Epoch 37/40\n",
      "157/157 [==============================] - 1s 3ms/step - loss: 0.0462\n",
      "Epoch 38/40\n",
      "157/157 [==============================] - 1s 4ms/step - loss: 0.0436\n",
      "Epoch 39/40\n",
      "157/157 [==============================] - 1s 3ms/step - loss: 0.0396\n",
      "Epoch 40/40\n",
      "157/157 [==============================] - 1s 3ms/step - loss: 0.0391\n"
     ]
    }
   ],
   "source": [
    "tf.random.set_seed(1234) # for consistent results\n",
    "# Build/Construct the model\n",
    "# -----------------------\n",
    "model = Sequential(\n",
    "    [\n",
    "        #tf.keras.Input(shape=X[0].shape),\n",
    "        #Dense(units=25, activation=\"relu\"),\n",
    "        # OR\n",
    "        Dense(units=25, input_shape = X[0].shape, activation=\"relu\"),\n",
    "        Dense(units=15, activation=\"relu\"),\n",
    "        Dense(units=10, activation=\"linear\") #linear is used in the output layer.See description in cell above\n",
    "    ], name = \"my_model\" \n",
    ")\n",
    "# Print a summary of the model\n",
    "model.summary()\n",
    "\n",
    "# Compile the model\n",
    "# ------------------\n",
    "model.compile(\n",
    "    # SparseCategorialCrossEntropy(): Softmax Regression Loss function for multi-class classification\n",
    "    loss=tf.keras.losses.SparseCategoricalCrossentropy(from_logits=True),\n",
    "    # ADAM: An algorithm to speed up GD by adaptively increasing/decreasing the learning rate\n",
    "    optimizer=tf.keras.optimizers.Adam(learning_rate=0.001),\n",
    ")\n",
    "\n",
    "# Fit the data to the model\n",
    "# ------------------------\n",
    "\n",
    "# model fitting returns a History object. Can access losses over epochs using history.history['loss']\n",
    "history = model.fit(\n",
    "    X,y,\n",
    "    epochs=40\n",
    ")"
   ]
  },
  {
   "cell_type": "code",
   "execution_count": 83,
   "metadata": {},
   "outputs": [
    {
     "name": "stdout",
     "output_type": "stream",
     "text": [
      "W1 shape = (400, 25), b1 shape = (25,)\n",
      "W2 shape = (25, 15), b2 shape = (15,)\n",
      "W3 shape = (15, 10), b3 shape = (10,)\n"
     ]
    }
   ],
   "source": [
    "# We can examine the model as follows\n",
    "# to verify that tensorflow produced the same dimensions as expected\n",
    "[layer1, layer2, layer3] = model.layers\n",
    "\n",
    "#### Examine Weights shapes\n",
    "W1,b1 = layer1.get_weights()\n",
    "W2,b2 = layer2.get_weights()\n",
    "W3,b3 = layer3.get_weights()\n",
    "print(f\"W1 shape = {W1.shape}, b1 shape = {b1.shape}\")\n",
    "print(f\"W2 shape = {W2.shape}, b2 shape = {b2.shape}\")\n",
    "print(f\"W3 shape = {W3.shape}, b3 shape = {b3.shape}\")"
   ]
  },
  {
   "cell_type": "markdown",
   "metadata": {},
   "source": [
    "#### Epochs and batches\n",
    "```\n",
    "Epoch 1/100\n",
    "157/157 [==============================] - 0s 1ms/step - loss: 2.2770\n",
    "```\n",
    "Epoch: Number of the current iteration over the whole data set.\n",
    "XX/157: Which batch is currently running. TF batch size is 32 by default, so 5000 examples are 157 batches.\n",
    "\n",
    "#### Cost VS Loss\n",
    "In TF, loss refers to the cost?"
   ]
  },
  {
   "cell_type": "code",
   "execution_count": 84,
   "metadata": {},
   "outputs": [
    {
     "data": {
      "image/png": "[encoded data removed]",
      "text/plain": [
       "<Figure size 400x300 with 1 Axes>"
      ]
     },
     "metadata": {},
     "output_type": "display_data"
    }
   ],
   "source": [
    "def plot_loss(history):\n",
    "    plt.figure(figsize = (4,3))\n",
    "    plt.plot(history.history['loss'], label='loss')\n",
    "    plt.xlabel('Epoch')\n",
    "    plt.ylim([0, 2])\n",
    "    plt.ylabel('loss (cost)')\n",
    "    plt.legend()\n",
    "    plt.grid(True)\n",
    "    plt.show()    \n",
    "\n",
    "plot_loss(history)"
   ]
  },
  {
   "cell_type": "markdown",
   "metadata": {},
   "source": [
    "### Predictions"
   ]
  },
  {
   "cell_type": "code",
   "execution_count": 86,
   "metadata": {},
   "outputs": [
    {
     "data": {
      "image/png": "[encoded data removed]",
      "text/plain": [
       "<Figure size 100x100 with 1 Axes>"
      ]
     },
     "metadata": {},
     "output_type": "display_data"
    },
    {
     "name": "stdout",
     "output_type": "stream",
     "text": [
      "1/1 [==============================] - 0s 28ms/step\n",
      "#Prediction: \n",
      "[[-12.01   0.08   3.51  -1.29  -6.05 -10.85  -1.57  -3.22  -8.45  -9.59]]\n",
      " Largest Prediction index: 2\n",
      "\n",
      "#Probability vector: \n",
      "[[1.75e-07 3.08e-02 9.54e-01 7.83e-03 6.75e-05 5.55e-07 5.94e-03 1.14e-03\n",
      "  6.12e-06 1.96e-06]]\n",
      " Largest Probability index: 2\n"
     ]
    }
   ],
   "source": [
    "# Prediction\n",
    "img = X[1015] # an image of 2\n",
    "\n",
    "#display the img\n",
    "plt.figure(figsize = (1,1))\n",
    "plt.imshow(img.reshape((20,20)).T, cmap='gray')\n",
    "plt.show()\n",
    "\n",
    "# prediction is a vector of values largest of which is the predicted class (digit)\n",
    "prediction = model.predict(img.reshape(1,400))  # prediction\n",
    "\n",
    "print(f\"#Prediction: \\n{prediction}\") \n",
    "print(f\" Largest Prediction index: {np.argmax(prediction)}\")\n",
    "\n",
    "# If we want probabilities instead, we use softmax as follows\n",
    "prediction_p = tf.nn.softmax(prediction)\n",
    "\n",
    "print(f\"\\n#Probability vector: \\n{prediction_p}\")\n",
    "print(f\" Largest Probability index: {np.argmax(prediction_p)}\")"
   ]
  },
  {
   "cell_type": "markdown",
   "metadata": {},
   "source": [
    "### Show a sample of data with labels and predictions"
   ]
  },
  {
   "cell_type": "code",
   "execution_count": 87,
   "metadata": {},
   "outputs": [
    {
     "name": "stdout",
     "output_type": "stream",
     "text": [
      "1/1 [==============================] - 0s 29ms/step\n",
      "1/1 [==============================] - 0s 27ms/step\n",
      "1/1 [==============================] - 0s 25ms/step\n",
      "1/1 [==============================] - 0s 24ms/step\n",
      "1/1 [==============================] - 0s 28ms/step\n",
      "1/1 [==============================] - 0s 26ms/step\n",
      "1/1 [==============================] - 0s 26ms/step\n",
      "1/1 [==============================] - 0s 28ms/step\n",
      "1/1 [==============================] - 0s 25ms/step\n",
      "1/1 [==============================] - 0s 26ms/step\n",
      "1/1 [==============================] - 0s 24ms/step\n",
      "1/1 [==============================] - 0s 25ms/step\n",
      "1/1 [==============================] - 0s 27ms/step\n",
      "1/1 [==============================] - 0s 27ms/step\n",
      "1/1 [==============================] - 0s 28ms/step\n",
      "1/1 [==============================] - 0s 26ms/step\n"
     ]
    },
    {
     "data": {
      "image/png": "[encoded data removed]",
      "text/plain": [
       "<Figure size 500x200 with 16 Axes>"
      ]
     },
     "metadata": {},
     "output_type": "display_data"
    }
   ],
   "source": [
    "# Show a sample of data with predictions\n",
    "show_image_grid(X, y, grid_w=8, grid_h=2, random_index=True, show_predictions=True)"
   ]
  },
  {
   "cell_type": "markdown",
   "metadata": {},
   "source": [
    "### Show a sample of errors (wrong predictions)"
   ]
  },
  {
   "cell_type": "code",
   "execution_count": 88,
   "metadata": {},
   "outputs": [
    {
     "name": "stdout",
     "output_type": "stream",
     "text": [
      "157/157 [==============================] - 0s 2ms/step\n",
      "There are 21 mistakes in the predictions. Showing some wrong predictions\n",
      "1/1 [==============================] - 0s 47ms/step\n",
      "1/1 [==============================] - 0s 30ms/step\n",
      "1/1 [==============================] - 0s 33ms/step\n",
      "1/1 [==============================] - 0s 28ms/step\n",
      "1/1 [==============================] - 0s 27ms/step\n",
      "1/1 [==============================] - 0s 27ms/step\n",
      "1/1 [==============================] - 0s 25ms/step\n",
      "1/1 [==============================] - 0s 26ms/step\n",
      "1/1 [==============================] - 0s 27ms/step\n",
      "1/1 [==============================] - 0s 26ms/step\n",
      "1/1 [==============================] - 0s 27ms/step\n",
      "1/1 [==============================] - 0s 25ms/step\n",
      "1/1 [==============================] - 0s 25ms/step\n",
      "1/1 [==============================] - 0s 25ms/step\n",
      "1/1 [==============================] - 0s 26ms/step\n",
      "1/1 [==============================] - 0s 26ms/step\n"
     ]
    },
    {
     "data": {
      "image/png": "[encoded data removed]",
      "text/plain": [
       "<Figure size 500x200 with 16 Axes>"
      ]
     },
     "metadata": {},
     "output_type": "display_data"
    }
   ],
   "source": [
    "# Show some mistaken predictions\n",
    "preds = model.predict(X)\n",
    "yhat = np.argmax(preds, axis=1)\n",
    "idxs = np.where(yhat != y[:,0])[0]\n",
    "mistakes = X[idxs]\n",
    "mistake_count = mistakes.shape[0]\n",
    "if mistake_count > 0:\n",
    "    print(f'There are {mistake_count} mistakes in the predictions. Showing some wrong predictions')\n",
    "    show_image_grid(mistakes, y[idxs], grid_w=8, grid_h=2, show_predictions=True)\n",
    "else:\n",
    "    print('No mistaken predictions')"
   ]
  },
  {
   "cell_type": "code",
   "execution_count": 89,
   "metadata": {},
   "outputs": [],
   "source": [
    "### Try to predict the output of my own digit image (gives wrong prediction)"
   ]
  },
  {
   "cell_type": "code",
   "execution_count": 90,
   "metadata": {},
   "outputs": [
    {
     "name": "stdout",
     "output_type": "stream",
     "text": [
      "(292, 301)\n"
     ]
    },
    {
     "data": {
      "image/png": "[encoded data removed]",
      "text/plain": [
       "<Figure size 100x100 with 1 Axes>"
      ]
     },
     "metadata": {},
     "output_type": "display_data"
    },
    {
     "data": {
      "image/png": "[encoded data removed]",
      "text/plain": [
       "<Figure size 100x100 with 1 Axes>"
      ]
     },
     "metadata": {},
     "output_type": "display_data"
    },
    {
     "name": "stdout",
     "output_type": "stream",
     "text": [
      "(20, 20)\n",
      "1/1 [==============================] - 0s 80ms/step\n",
      "#Prediction: \n",
      "[[ -254.13  -487.38  -644.24 -1014.59   405.33  -699.39    46.9    -42.68\n",
      "   -767.7     60.46]]\n",
      " Largest Prediction index: 4\n",
      "\n",
      "#Probability vector: \n",
      "[[0. 0. 0. 0. 1. 0. 0. 0. 0. 0.]]\n",
      " Largest Probability index: 4\n"
     ]
    }
   ],
   "source": [
    "from PIL import Image\n",
    "\n",
    "im = Image.open(r\"./my_5.png\")\n",
    "print(im.size)\n",
    "\n",
    "#display the img\n",
    "plt.figure(figsize = (1,1))\n",
    "plt.imshow(im, cmap='gray')\n",
    "plt.show()\n",
    "\n",
    "resized = im.resize((20,20))\n",
    "resized = resized.convert(\"L\") # convert to gray scale\n",
    "resized_np = np.array(resized)\n",
    "\n",
    "plt.figure(figsize = (1,1))\n",
    "plt.imshow(resized_np, cmap='gray')\n",
    "plt.show()\n",
    "\n",
    "\n",
    "print(resized_np.shape)\n",
    "# prediction is a vector of values largest of which is the predicted class (digit)\n",
    "prediction = model.predict(resized_np.reshape(1,400))  # prediction\n",
    "\n",
    "print(f\"#Prediction: \\n{prediction}\") \n",
    "print(f\" Largest Prediction index: {np.argmax(prediction)}\")\n",
    "\n",
    "# If we want probabilities instead, we use softmax as follows\n",
    "prediction_p = tf.nn.softmax(prediction)\n",
    "\n",
    "print(f\"\\n#Probability vector: \\n{prediction_p}\")\n",
    "print(f\" Largest Probability index: {np.argmax(prediction_p)}\")"
   ]
  },
  {
   "cell_type": "code",
   "execution_count": null,
   "metadata": {},
   "outputs": [],
   "source": []
  }
 ],
 "metadata": {
  "dl_toc_settings": {
   "rndtag": "89367"
  },
  "kernelspec": {
   "display_name": "Python 3 (ipykernel)",
   "language": "python",
   "name": "python3"
  },
  "language_info": {
   "codemirror_mode": {
    "name": "ipython",
    "version": 3
   },
   "file_extension": ".py",
   "mimetype": "text/x-python",
   "name": "python",
   "nbconvert_exporter": "python",
   "pygments_lexer": "ipython3",
   "version": "3.10.6"
  }
 },
 "nbformat": 4,
 "nbformat_minor": 4
}
