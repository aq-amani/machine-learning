{
 "cells": [
  {
   "cell_type": "markdown",
   "metadata": {},
   "source": [
    "# Convolutional Neural Networks: Mood classifier and Sign language classifier\n",
    "\n",
    "In this project:\n",
    "- A mood classifer using the TF Keras `Sequential API` (Binary classification)\n",
    "- A ConvNet to identify sign language digits using the TF Keras `Functional API` (Multiclass classification)\n",
    "\n",
    "`Sequential API`: Layers are connected in one linear way (single line)\n",
    "\n",
    "`Functional API`: More freedom in connecting layers and skipping some. More like a graph as opposed to a single line.\n"
   ]
  },
  {
   "cell_type": "code",
   "execution_count": 4,
   "metadata": {},
   "outputs": [],
   "source": [
    "# to suppress TF warnings\n",
    "import os\n",
    "os.environ['TF_CPP_MIN_LOG_LEVEL'] = '3'\n",
    "#\n",
    "import math\n",
    "import numpy as np\n",
    "import h5py\n",
    "import matplotlib.pyplot as plt\n",
    "from matplotlib.pyplot import imread\n",
    "import scipy\n",
    "from PIL import Image\n",
    "import pandas as pd\n",
    "import tensorflow as tf\n",
    "import tensorflow.keras.layers as tfl\n",
    "from tensorflow.python.framework import ops\n",
    "from cnn_utils import *\n",
    "from test_utils import summary, comparator\n",
    "\n",
    "%matplotlib inline\n",
    "np.random.seed(1)"
   ]
  },
  {
   "cell_type": "markdown",
   "metadata": {},
   "source": [
    "## Happy/ not happy binary classifier (Sequential model)"
   ]
  },
  {
   "cell_type": "markdown",
   "metadata": {},
   "source": [
    "### Load, split and examine the Data\n",
    "\n",
    "Dataset: Images of people faces\n",
    "\n",
    "Labels: 1: happy, 0: not happy \n",
    "\n",
    "Task: Binary classification (happy or not) using a ConvNet."
   ]
  },
  {
   "cell_type": "code",
   "execution_count": 37,
   "metadata": {},
   "outputs": [
    {
     "name": "stdout",
     "output_type": "stream",
     "text": [
      "X_train shape: (600, 64, 64, 3)\n",
      "Y_train shape: (600, 1)\n",
      "X_test shape: (150, 64, 64, 3)\n",
      "Y_test shape: (150, 1)\n",
      "possible classes:  [0 1]\n",
      "A sample image: \n",
      "\n",
      "label is [1]\n"
     ]
    },
    {
     "data": {
      "image/png": "[encoded data removed]",
      "text/plain": [
       "<Figure size 300x300 with 1 Axes>"
      ]
     },
     "metadata": {},
     "output_type": "display_data"
    }
   ],
   "source": [
    "X_train_orig, Y_train_orig, X_test_orig, Y_test_orig, classes = load_happy_dataset()\n",
    "\n",
    "# Normalize image vectors\n",
    "X_train = X_train_orig/255.\n",
    "X_test = X_test_orig/255.\n",
    "\n",
    "# Reshape\n",
    "Y_train = Y_train_orig.T\n",
    "Y_test = Y_test_orig.T\n",
    "\n",
    "print (\"X_train shape: \" + str(X_train.shape))\n",
    "print (\"Y_train shape: \" + str(Y_train.shape))\n",
    "print (\"X_test shape: \" + str(X_test.shape))\n",
    "print (\"Y_test shape: \" + str(Y_test.shape))\n",
    "print (\"possible classes: \", classes)\n",
    "\n",
    "# Display a sample image\n",
    "print(\"A sample image: \\n\")\n",
    "plt.figure(figsize=(3,3))\n",
    "index = 12\n",
    "print(\"label is\", Y_train[index])\n",
    "plt.imshow(X_train_orig[index]) #display sample training image\n",
    "plt.show()\n"
   ]
  },
  {
   "cell_type": "markdown",
   "metadata": {},
   "source": [
    "### Model\n",
    "\n",
    "Model: `ZEROPAD2D -> CONV2D -> BATCHNORM -> RELU -> MAXPOOL -> FLATTEN -> DENSE`.\n",
    "\n",
    "Parameters:\n",
    "\n",
    " - [ZeroPadding2D](https://www.tensorflow.org/api_docs/python/tf/keras/layers/ZeroPadding2D): padding 3, input shape 64 x 64 x 3\n",
    " - [Conv2D](https://www.tensorflow.org/api_docs/python/tf/keras/layers/Conv2D): Use 32 7x7 filters, stride 1\n",
    " - [BatchNormalization](https://www.tensorflow.org/api_docs/python/tf/keras/layers/BatchNormalization): for axis 3\n",
    " - [ReLU](https://www.tensorflow.org/api_docs/python/tf/keras/layers/ReLU)\n",
    " - [MaxPool2D](https://www.tensorflow.org/api_docs/python/tf/keras/layers/MaxPool2D): Using default parameters\n",
    " - [Flatten](https://www.tensorflow.org/api_docs/python/tf/keras/layers/Flatten) the previous output.\n",
    " - FC ([Dense](https://www.tensorflow.org/api_docs/python/tf/keras/layers/Dense)) layer: Apply a fully connected layer with 1 neuron and a sigmoid activation. "
   ]
  },
  {
   "cell_type": "code",
   "execution_count": 13,
   "metadata": {
    "deletable": false,
    "nbgrader": {
     "cell_type": "code",
     "checksum": "95d28b191f257bdd5b70c7b8952559d5",
     "grade": false,
     "grade_id": "cell-0e56d3fc28b69aec",
     "locked": false,
     "schema_version": 3,
     "solution": true,
     "task": false
    }
   },
   "outputs": [],
   "source": [
    "def happyModel():\n",
    "    \"\"\"\n",
    "    Implements the forward propagation for the binary classification model:\n",
    "    ZEROPAD2D -> CONV2D -> BATCHNORM -> RELU -> MAXPOOL -> FLATTEN -> DENSE\n",
    "    \n",
    "    Arguments:\n",
    "    None\n",
    "\n",
    "    Returns:\n",
    "    model -- TF Keras model (object containing the information for the entire training process) \n",
    "    \"\"\"\n",
    "    # Alternatively can be done gradually using .add()\n",
    "    model = tf.keras.Sequential([\n",
    "            tfl.ZeroPadding2D(padding=(3, 3), input_shape=(64,64,3)),\n",
    "            tfl.Conv2D(32, (7, 7), strides=(1, 1)),\n",
    "            tfl.BatchNormalization(axis=3),\n",
    "            tfl.ReLU(),\n",
    "            tfl.MaxPool2D(),\n",
    "            tfl.Flatten(),\n",
    "            tfl.Dense(units=1, activation='sigmoid')            \n",
    "        ])\n",
    "    \n",
    "    return model"
   ]
  },
  {
   "cell_type": "code",
   "execution_count": 18,
   "metadata": {
    "deletable": false,
    "nbgrader": {
     "cell_type": "code",
     "checksum": "8d3575c950e2e78149be2d05d671c80d",
     "grade": true,
     "grade_id": "cell-e3e1046e5c33d775",
     "locked": true,
     "points": 10,
     "schema_version": 3,
     "solution": false,
     "task": false
    }
   },
   "outputs": [
    {
     "name": "stdout",
     "output_type": "stream",
     "text": [
      "['ZeroPadding2D', (None, 70, 70, 3), 0, ((3, 3), (3, 3))]\n",
      "['Conv2D', (None, 64, 64, 32), 4736, 'valid', 'linear', 'GlorotUniform']\n",
      "['BatchNormalization', (None, 64, 64, 32), 128]\n",
      "['ReLU', (None, 64, 64, 32), 0]\n",
      "['MaxPooling2D', (None, 32, 32, 32), 0, (2, 2), (2, 2), 'valid']\n",
      "['Flatten', (None, 32768), 0]\n",
      "['Dense', (None, 1), 32769, 'sigmoid']\n",
      "Model: \"sequential_4\"\n",
      "_________________________________________________________________\n",
      " Layer (type)                Output Shape              Param #   \n",
      "=================================================================\n",
      " zero_padding2d_4 (ZeroPaddi  (None, 70, 70, 3)        0         \n",
      " ng2D)                                                           \n",
      "                                                                 \n",
      " conv2d_4 (Conv2D)           (None, 64, 64, 32)        4736      \n",
      "                                                                 \n",
      " batch_normalization_4 (Batc  (None, 64, 64, 32)       128       \n",
      " hNormalization)                                                 \n",
      "                                                                 \n",
      " re_lu_4 (ReLU)              (None, 64, 64, 32)        0         \n",
      "                                                                 \n",
      " max_pooling2d_4 (MaxPooling  (None, 32, 32, 32)       0         \n",
      " 2D)                                                             \n",
      "                                                                 \n",
      " flatten_4 (Flatten)         (None, 32768)             0         \n",
      "                                                                 \n",
      " dense_4 (Dense)             (None, 1)                 32769     \n",
      "                                                                 \n",
      "=================================================================\n",
      "Total params: 37,633\n",
      "Trainable params: 37,569\n",
      "Non-trainable params: 64\n",
      "_________________________________________________________________\n"
     ]
    }
   ],
   "source": [
    "# Create model\n",
    "happy_model = happyModel()\n",
    "# Print a summary for each layer\n",
    "for layer in summary(happy_model):\n",
    "    print(layer)\n",
    "\n",
    "# Compile model\n",
    "happy_model.compile(optimizer='adam',\n",
    "                   loss='binary_crossentropy',\n",
    "                   metrics=['accuracy'])\n",
    "# Check model summary\n",
    "happy_model.summary()"
   ]
  },
  {
   "cell_type": "code",
   "execution_count": 20,
   "metadata": {},
   "outputs": [
    {
     "name": "stdout",
     "output_type": "stream",
     "text": [
      "Epoch 1/10\n",
      "38/38 [==============================] - 5s 72ms/step - loss: 1.3977 - accuracy: 0.6600\n",
      "Epoch 2/10\n",
      "38/38 [==============================] - 3s 68ms/step - loss: 0.2053 - accuracy: 0.9167\n",
      "Epoch 3/10\n",
      "38/38 [==============================] - 2s 58ms/step - loss: 0.1316 - accuracy: 0.9550\n",
      "Epoch 4/10\n",
      "38/38 [==============================] - 2s 56ms/step - loss: 0.0925 - accuracy: 0.9650\n",
      "Epoch 5/10\n",
      "38/38 [==============================] - 2s 59ms/step - loss: 0.1029 - accuracy: 0.9667\n",
      "Epoch 6/10\n",
      "38/38 [==============================] - 2s 57ms/step - loss: 0.1025 - accuracy: 0.9683\n",
      "Epoch 7/10\n",
      "38/38 [==============================] - 2s 56ms/step - loss: 0.0975 - accuracy: 0.9667\n",
      "Epoch 8/10\n",
      "38/38 [==============================] - 2s 59ms/step - loss: 0.1515 - accuracy: 0.9317\n",
      "Epoch 9/10\n",
      "38/38 [==============================] - 2s 58ms/step - loss: 0.0982 - accuracy: 0.9650\n",
      "Epoch 10/10\n",
      "38/38 [==============================] - 2s 59ms/step - loss: 0.1556 - accuracy: 0.9433\n"
     ]
    },
    {
     "data": {
      "text/plain": [
       "<keras.callbacks.History at 0x7f8c197b2da0>"
      ]
     },
     "execution_count": 20,
     "metadata": {},
     "output_type": "execute_result"
    }
   ],
   "source": [
    "# Fit (train) model\n",
    "happy_model.fit(X_train, Y_train, epochs=10, batch_size=16)"
   ]
  },
  {
   "cell_type": "code",
   "execution_count": 21,
   "metadata": {},
   "outputs": [
    {
     "name": "stdout",
     "output_type": "stream",
     "text": [
      "5/5 [==============================] - 1s 41ms/step - loss: 0.2072 - accuracy: 0.9400\n"
     ]
    },
    {
     "data": {
      "text/plain": [
       "[0.2071557641029358, 0.9399999976158142]"
      ]
     },
     "execution_count": 21,
     "metadata": {},
     "output_type": "execute_result"
    }
   ],
   "source": [
    "# Evaluate model against test data set \n",
    "# (prints the value of the loss function and the performance metrics specified in the compile step)\n",
    "happy_model.evaluate(X_test, Y_test)"
   ]
  },
  {
   "cell_type": "code",
   "execution_count": 40,
   "metadata": {},
   "outputs": [
    {
     "name": "stdout",
     "output_type": "stream",
     "text": [
      "5/5 [==============================] - 0s 44ms/step\n",
      "0.06\n",
      "prediction: [1] label: [0]\n"
     ]
    },
    {
     "data": {
      "image/png": "[encoded data removed]",
      "text/plain": [
       "<Figure size 300x300 with 1 Axes>"
      ]
     },
     "metadata": {},
     "output_type": "display_data"
    }
   ],
   "source": [
    "# show some mistakes\n",
    "preds = happy_model.predict(X_test)\n",
    "yhat = np.where(preds > 0.5, 1, 0)\n",
    "mistaken_idx = np.where(yhat!=Y_test)[0]\n",
    "\n",
    "plt.figure(figsize=(3,3))\n",
    "index = mistaken_idx[2]\n",
    "plt.imshow(X_test[index]) #display sample training image\n",
    "print(\"prediction:\", yhat[index], \"label:\", Y_test[index])\n",
    "plt.show()\n"
   ]
  },
  {
   "cell_type": "markdown",
   "metadata": {},
   "source": [
    "## Sign language multi-class classifier (Functional API)"
   ]
  },
  {
   "cell_type": "markdown",
   "metadata": {},
   "source": [
    "### Load, split and examine the data\n",
    "\n",
    "Data set: A collection of hand signs representing numbers from 0 to 5.\n",
    "\n",
    "Labels: 0 ~ 5"
   ]
  },
  {
   "cell_type": "code",
   "execution_count": 52,
   "metadata": {},
   "outputs": [
    {
     "name": "stdout",
     "output_type": "stream",
     "text": [
      "X_train shape: (1080, 64, 64, 3)\n",
      "Original Y_train shape: (1, 1080)\n",
      "One Hot encoded Y_train shape: (1080, 6)\n",
      "X_test shape: (120, 64, 64, 3)\n",
      "Y_test shape: (120, 6)\n",
      "possible classes  [0 1 2 3 4 5]\n",
      "sample image:\n",
      "y = 4\n"
     ]
    },
    {
     "data": {
      "image/png": "[encoded data removed]",
      "text/plain": [
       "<Figure size 300x300 with 1 Axes>"
      ]
     },
     "metadata": {},
     "output_type": "display_data"
    }
   ],
   "source": [
    "# Loading the data (signs)\n",
    "X_train_orig, Y_train_orig, X_test_orig, Y_test_orig, classes = load_signs_dataset()\n",
    "\n",
    "# Normalize image vectors\n",
    "X_train = X_train_orig/255.\n",
    "X_test = X_test_orig/255.\n",
    "\n",
    "# Convert labels to one hot encoding (original labels are just single values 0~5)\n",
    "Y_train = convert_to_one_hot(Y_train_orig, 6).T\n",
    "Y_test = convert_to_one_hot(Y_test_orig, 6).T\n",
    "\n",
    "print (\"X_train shape: \" + str(X_train.shape))\n",
    "print (\"Original Y_train shape:\", Y_train_orig.shape)\n",
    "print (\"One Hot encoded Y_train shape: \" + str(Y_train.shape))\n",
    "print (\"X_test shape: \" + str(X_test.shape))\n",
    "print (\"Y_test shape: \" + str(Y_test.shape))\n",
    "print (\"possible classes \", classes)\n",
    "\n",
    "# Example of an image from the dataset\n",
    "index = 9\n",
    "plt.figure(figsize=(3,3))\n",
    "plt.imshow(X_train_orig[index])\n",
    "print(\"sample image:\")\n",
    "print (\"y = \" + str(np.squeeze(Y_train_orig[:, index])))"
   ]
  },
  {
   "cell_type": "markdown",
   "metadata": {},
   "source": [
    "### Model (Functional API)\n",
    "\n",
    "This model can be built using the sequenial API, but will use the Functional API for demonstration purposes.\n",
    "\n",
    "Model: `CONV2D -> RELU -> MAXPOOL -> CONV2D -> RELU -> MAXPOOL -> FLATTEN -> DENSE`\n",
    "\n",
    "In functional API, every layer takes the previous layer as the input --> The final layer contains all other layers wrapped inside.\n",
    "\n",
    "Parameters:\n",
    "\n",
    " - [Conv2D](https://www.tensorflow.org/api_docs/python/tf/keras/layers/Conv2D): Use 8 4 by 4 filters, stride 1, padding is \"SAME\"\n",
    " - [ReLU](https://www.tensorflow.org/api_docs/python/tf/keras/layers/ReLU)\n",
    " - [MaxPool2D](https://www.tensorflow.org/api_docs/python/tf/keras/layers/MaxPool2D): Use an 8 by 8 filter size and an 8 by 8 stride, padding is \"SAME\"\n",
    " - **Conv2D**: Use 16 2 by 2 filters, stride 1, padding is \"SAME\"\n",
    " - **ReLU**\n",
    " - **MaxPool2D**: Use a 4 by 4 filter size and a 4 by 4 stride, padding is \"SAME\"\n",
    " - [Flatten](https://www.tensorflow.org/api_docs/python/tf/keras/layers/Flatten) the previous output.\n",
    " - Fully-connected ([Dense](https://www.tensorflow.org/api_docs/python/tf/keras/layers/Dense)) layer: Apply a fully connected layer with 6 neurons and a softmax activation. "
   ]
  },
  {
   "cell_type": "code",
   "execution_count": 53,
   "metadata": {
    "deletable": false,
    "nbgrader": {
     "cell_type": "code",
     "checksum": "f58643806aa8380c96225fc8b4c5e7aa",
     "grade": false,
     "grade_id": "cell-dac51744a9e03f51",
     "locked": false,
     "schema_version": 3,
     "solution": true,
     "task": false
    }
   },
   "outputs": [],
   "source": [
    "def convolutional_model(input_shape):\n",
    "    \"\"\"\n",
    "    Implements the forward propagation for the model:\n",
    "    CONV2D -> RELU -> MAXPOOL -> CONV2D -> RELU -> MAXPOOL -> FLATTEN -> DENSE\n",
    "    \n",
    "    Arguments:\n",
    "    input_img -- input dataset, of shape (input_shape)\n",
    "\n",
    "    Returns:\n",
    "    model -- TF Keras model (object containing the information for the entire training process) \n",
    "    \"\"\"\n",
    "\n",
    "    input_img = tf.keras.Input(shape=input_shape)\n",
    "\n",
    "    Z1 = tfl.Conv2D(8, (4, 4), strides=(1, 1), padding='SAME')(input_img)\n",
    "\n",
    "    A1 = tfl.ReLU()(Z1)\n",
    "    \n",
    "    P1 = tfl.MaxPool2D(pool_size=(8, 8), strides=(8,8), padding='SAME')(A1)\n",
    "\n",
    "    Z2 = tfl.Conv2D(16, (2, 2), strides=(1, 1), padding='SAME')(P1)\n",
    "\n",
    "    A2 = tfl.ReLU()(Z2)\n",
    "\n",
    "    P2 = tfl.MaxPool2D(pool_size=(4, 4), strides=(4,4), padding='SAME')(A2)\n",
    "\n",
    "    F = tfl.Flatten()(P2)\n",
    "\n",
    "    outputs = tfl.Dense(units=6, activation='softmax')(F)    \n",
    "\n",
    "    model = tf.keras.Model(inputs=input_img, outputs=outputs)\n",
    "    return model"
   ]
  },
  {
   "cell_type": "code",
   "execution_count": 55,
   "metadata": {
    "deletable": false,
    "nbgrader": {
     "cell_type": "code",
     "checksum": "483d626949930a0b0ef20997e7c6ba72",
     "grade": true,
     "grade_id": "cell-45d22e92042174c9",
     "locked": true,
     "points": 10,
     "schema_version": 3,
     "solution": false,
     "task": false
    }
   },
   "outputs": [
    {
     "name": "stdout",
     "output_type": "stream",
     "text": [
      "Model: \"model_1\"\n",
      "_________________________________________________________________\n",
      " Layer (type)                Output Shape              Param #   \n",
      "=================================================================\n",
      " input_2 (InputLayer)        [(None, 64, 64, 3)]       0         \n",
      "                                                                 \n",
      " conv2d_7 (Conv2D)           (None, 64, 64, 8)         392       \n",
      "                                                                 \n",
      " re_lu_7 (ReLU)              (None, 64, 64, 8)         0         \n",
      "                                                                 \n",
      " max_pooling2d_7 (MaxPooling  (None, 8, 8, 8)          0         \n",
      " 2D)                                                             \n",
      "                                                                 \n",
      " conv2d_8 (Conv2D)           (None, 8, 8, 16)          528       \n",
      "                                                                 \n",
      " re_lu_8 (ReLU)              (None, 8, 8, 16)          0         \n",
      "                                                                 \n",
      " max_pooling2d_8 (MaxPooling  (None, 2, 2, 16)         0         \n",
      " 2D)                                                             \n",
      "                                                                 \n",
      " flatten_6 (Flatten)         (None, 64)                0         \n",
      "                                                                 \n",
      " dense_6 (Dense)             (None, 6)                 390       \n",
      "                                                                 \n",
      "=================================================================\n",
      "Total params: 1,310\n",
      "Trainable params: 1,310\n",
      "Non-trainable params: 0\n",
      "_________________________________________________________________\n"
     ]
    }
   ],
   "source": [
    "# Create model\n",
    "conv_model = convolutional_model((64, 64, 3))\n",
    "# Compile model\n",
    "conv_model.compile(optimizer='adam',\n",
    "                  loss='categorical_crossentropy',\n",
    "                  metrics=['accuracy'])\n",
    "# Check summary of model\n",
    "conv_model.summary()"
   ]
  },
  {
   "cell_type": "code",
   "execution_count": 67,
   "metadata": {},
   "outputs": [],
   "source": [
    "# batch and prepare data combining both examples and labels\n",
    "train_dataset = tf.data.Dataset.from_tensor_slices((X_train, Y_train)).batch(64)\n",
    "test_dataset = tf.data.Dataset.from_tensor_slices((X_test, Y_test)).batch(64)\n",
    "\n",
    "# Fit (train) model\n",
    "# X, Y are fed in one input as train_dataset\n",
    "history = conv_model.fit(train_dataset, epochs=100, validation_data=test_dataset, verbose=False)\n",
    "# TODO: see use of validation_data"
   ]
  },
  {
   "cell_type": "code",
   "execution_count": 69,
   "metadata": {},
   "outputs": [
    {
     "name": "stdout",
     "output_type": "stream",
     "text": [
      "4/4 [==============================] - 0s 21ms/step - loss: 0.4960 - accuracy: 0.8333\n"
     ]
    },
    {
     "data": {
      "text/plain": [
       "[0.49599987268447876, 0.8333333134651184]"
      ]
     },
     "execution_count": 69,
     "metadata": {},
     "output_type": "execute_result"
    }
   ],
   "source": [
    "# Evaluate\n",
    "conv_model.evaluate(X_test, Y_test)\n",
    "# TODO: see what corrosponds to this in the history object "
   ]
  },
  {
   "cell_type": "code",
   "execution_count": 59,
   "metadata": {},
   "outputs": [
    {
     "data": {
      "text/plain": [
       "{'loss': [1.797098994255066,\n",
       "  1.78993821144104,\n",
       "  1.783113956451416,\n",
       "  1.7792237997055054,\n",
       "  1.772462248802185,\n",
       "  1.766124963760376,\n",
       "  1.7575898170471191,\n",
       "  1.7464100122451782,\n",
       "  1.7326158285140991,\n",
       "  1.7149658203125,\n",
       "  1.692215919494629,\n",
       "  1.6666274070739746,\n",
       "  1.6365262269973755,\n",
       "  1.6015375852584839,\n",
       "  1.560137152671814,\n",
       "  1.5183323621749878,\n",
       "  1.4716665744781494,\n",
       "  1.4237456321716309,\n",
       "  1.3750749826431274,\n",
       "  1.3271197080612183,\n",
       "  1.283660888671875,\n",
       "  1.241766095161438,\n",
       "  1.2030354738235474,\n",
       "  1.1684656143188477,\n",
       "  1.1356455087661743,\n",
       "  1.1061638593673706,\n",
       "  1.0791170597076416,\n",
       "  1.0537669658660889,\n",
       "  1.0306445360183716,\n",
       "  1.0103447437286377,\n",
       "  0.9906757473945618,\n",
       "  0.9722985029220581,\n",
       "  0.9560557007789612,\n",
       "  0.939961850643158,\n",
       "  0.9249373078346252,\n",
       "  0.9107464551925659,\n",
       "  0.8966394662857056,\n",
       "  0.8836184144020081,\n",
       "  0.871817409992218,\n",
       "  0.859935462474823,\n",
       "  0.8483824133872986,\n",
       "  0.8374620676040649,\n",
       "  0.8275471329689026,\n",
       "  0.8177984952926636,\n",
       "  0.8091388940811157,\n",
       "  0.800313413143158,\n",
       "  0.7912415862083435,\n",
       "  0.7830536365509033,\n",
       "  0.7740636467933655,\n",
       "  0.7656746506690979,\n",
       "  0.7575132846832275,\n",
       "  0.7503199577331543,\n",
       "  0.7426955699920654,\n",
       "  0.735343873500824,\n",
       "  0.7286058664321899,\n",
       "  0.7214491963386536,\n",
       "  0.7147771716117859,\n",
       "  0.7084295749664307,\n",
       "  0.7012872099876404,\n",
       "  0.6951285600662231,\n",
       "  0.6892489790916443,\n",
       "  0.6826144456863403,\n",
       "  0.6767038106918335,\n",
       "  0.671562671661377,\n",
       "  0.6653586626052856,\n",
       "  0.659837543964386,\n",
       "  0.6551358103752136,\n",
       "  0.6489936709403992,\n",
       "  0.643510103225708,\n",
       "  0.6389080882072449,\n",
       "  0.6334307789802551,\n",
       "  0.628146767616272,\n",
       "  0.6238259673118591,\n",
       "  0.6191328167915344,\n",
       "  0.6137702465057373,\n",
       "  0.6090463399887085,\n",
       "  0.605023205280304,\n",
       "  0.6003320217132568,\n",
       "  0.5952240824699402,\n",
       "  0.5911695957183838,\n",
       "  0.587378978729248,\n",
       "  0.5823711156845093,\n",
       "  0.5783634781837463,\n",
       "  0.5744277238845825,\n",
       "  0.5703422427177429,\n",
       "  0.5657014846801758,\n",
       "  0.5617204904556274,\n",
       "  0.5585426092147827,\n",
       "  0.554444432258606,\n",
       "  0.5503944158554077,\n",
       "  0.546524703502655,\n",
       "  0.5426698327064514,\n",
       "  0.5388509631156921,\n",
       "  0.535275936126709,\n",
       "  0.5317674279212952,\n",
       "  0.5281504392623901,\n",
       "  0.524237334728241,\n",
       "  0.5210423469543457,\n",
       "  0.5176952481269836,\n",
       "  0.5142771005630493],\n",
       " 'accuracy': [0.14074073731899261,\n",
       "  0.18981482088565826,\n",
       "  0.24166665971279144,\n",
       "  0.24166665971279144,\n",
       "  0.31296294927597046,\n",
       "  0.31481480598449707,\n",
       "  0.33888888359069824,\n",
       "  0.37962964177131653,\n",
       "  0.38240739703178406,\n",
       "  0.4157407283782959,\n",
       "  0.43518519401550293,\n",
       "  0.45277777314186096,\n",
       "  0.4703703820705414,\n",
       "  0.48148149251937866,\n",
       "  0.47962963581085205,\n",
       "  0.49537035822868347,\n",
       "  0.5009258985519409,\n",
       "  0.5138888955116272,\n",
       "  0.5222222208976746,\n",
       "  0.5453703999519348,\n",
       "  0.5611110925674438,\n",
       "  0.5685185194015503,\n",
       "  0.595370352268219,\n",
       "  0.6120370626449585,\n",
       "  0.6212962865829468,\n",
       "  0.6333333253860474,\n",
       "  0.644444465637207,\n",
       "  0.6564815044403076,\n",
       "  0.6611111164093018,\n",
       "  0.6657407283782959,\n",
       "  0.6666666865348816,\n",
       "  0.6722221970558167,\n",
       "  0.6740740537643433,\n",
       "  0.6777777671813965,\n",
       "  0.6814814805984497,\n",
       "  0.6888889074325562,\n",
       "  0.6907407641410828,\n",
       "  0.6935185194015503,\n",
       "  0.699999988079071,\n",
       "  0.7037037014961243,\n",
       "  0.7055555582046509,\n",
       "  0.7083333134651184,\n",
       "  0.7120370268821716,\n",
       "  0.7129629850387573,\n",
       "  0.7194444537162781,\n",
       "  0.7250000238418579,\n",
       "  0.7277777791023254,\n",
       "  0.7268518805503845,\n",
       "  0.7361111044883728,\n",
       "  0.7407407164573669,\n",
       "  0.7444444298744202,\n",
       "  0.7462962865829468,\n",
       "  0.75,\n",
       "  0.7564814686775208,\n",
       "  0.7546296119689941,\n",
       "  0.7611111402511597,\n",
       "  0.7638888955116272,\n",
       "  0.7657407522201538,\n",
       "  0.770370364189148,\n",
       "  0.7749999761581421,\n",
       "  0.7749999761581421,\n",
       "  0.7768518328666687,\n",
       "  0.7787036895751953,\n",
       "  0.779629647731781,\n",
       "  0.7824074029922485,\n",
       "  0.7814815044403076,\n",
       "  0.7851851582527161,\n",
       "  0.7870370149612427,\n",
       "  0.7935185432434082,\n",
       "  0.7953703999519348,\n",
       "  0.7981481552124023,\n",
       "  0.8009259104728699,\n",
       "  0.8027777671813965,\n",
       "  0.8037037253379822,\n",
       "  0.8092592358589172,\n",
       "  0.8120370507240295,\n",
       "  0.8120370507240295,\n",
       "  0.8120370507240295,\n",
       "  0.8138889074325562,\n",
       "  0.8148148059844971,\n",
       "  0.8175926208496094,\n",
       "  0.8175926208496094,\n",
       "  0.8203703761100769,\n",
       "  0.8212962746620178,\n",
       "  0.8231481313705444,\n",
       "  0.824999988079071,\n",
       "  0.8259259462356567,\n",
       "  0.8268518447875977,\n",
       "  0.8287037014961243,\n",
       "  0.8296296000480652,\n",
       "  0.8305555582046509,\n",
       "  0.8296296000480652,\n",
       "  0.8305555582046509,\n",
       "  0.8296296000480652,\n",
       "  0.8324074149131775,\n",
       "  0.8333333134651184,\n",
       "  0.8342592716217041,\n",
       "  0.8370370268821716,\n",
       "  0.8379629850387573,\n",
       "  0.8379629850387573],\n",
       " 'val_loss': [1.7846559286117554,\n",
       "  1.778126835823059,\n",
       "  1.7733789682388306,\n",
       "  1.7669535875320435,\n",
       "  1.7607756853103638,\n",
       "  1.7533478736877441,\n",
       "  1.743249773979187,\n",
       "  1.7294127941131592,\n",
       "  1.7156049013137817,\n",
       "  1.6951390504837036,\n",
       "  1.6702234745025635,\n",
       "  1.6425837278366089,\n",
       "  1.610877513885498,\n",
       "  1.5722383260726929,\n",
       "  1.5334136486053467,\n",
       "  1.4863017797470093,\n",
       "  1.4433377981185913,\n",
       "  1.3960927724838257,\n",
       "  1.3503345251083374,\n",
       "  1.3094202280044556,\n",
       "  1.2690691947937012,\n",
       "  1.2347339391708374,\n",
       "  1.2034296989440918,\n",
       "  1.1758580207824707,\n",
       "  1.1527400016784668,\n",
       "  1.1287766695022583,\n",
       "  1.1087437868118286,\n",
       "  1.0891252756118774,\n",
       "  1.0712170600891113,\n",
       "  1.0552157163619995,\n",
       "  1.0402202606201172,\n",
       "  1.0263704061508179,\n",
       "  1.0150851011276245,\n",
       "  1.0034632682800293,\n",
       "  0.9927414059638977,\n",
       "  0.9816272854804993,\n",
       "  0.9708049297332764,\n",
       "  0.9613450169563293,\n",
       "  0.9529590606689453,\n",
       "  0.9435052275657654,\n",
       "  0.9347171783447266,\n",
       "  0.927123486995697,\n",
       "  0.9194799065589905,\n",
       "  0.9122992157936096,\n",
       "  0.9058689475059509,\n",
       "  0.8994204998016357,\n",
       "  0.8943738341331482,\n",
       "  0.8881750702857971,\n",
       "  0.8829430937767029,\n",
       "  0.8774619698524475,\n",
       "  0.8727929592132568,\n",
       "  0.8675591945648193,\n",
       "  0.8620811700820923,\n",
       "  0.8585502505302429,\n",
       "  0.852058470249176,\n",
       "  0.8486782312393188,\n",
       "  0.8444879055023193,\n",
       "  0.8380677700042725,\n",
       "  0.8342097401618958,\n",
       "  0.8299320340156555,\n",
       "  0.8245859742164612,\n",
       "  0.8201300501823425,\n",
       "  0.8169628381729126,\n",
       "  0.8123251795768738,\n",
       "  0.8083935976028442,\n",
       "  0.8057894110679626,\n",
       "  0.8008289337158203,\n",
       "  0.7962378263473511,\n",
       "  0.7926148772239685,\n",
       "  0.7873796224594116,\n",
       "  0.7837150692939758,\n",
       "  0.7810441255569458,\n",
       "  0.7760172486305237,\n",
       "  0.7736464142799377,\n",
       "  0.770135223865509,\n",
       "  0.766194760799408,\n",
       "  0.7633137106895447,\n",
       "  0.7600715756416321,\n",
       "  0.7572881579399109,\n",
       "  0.7542219161987305,\n",
       "  0.7512289881706238,\n",
       "  0.7483757734298706,\n",
       "  0.7458446621894836,\n",
       "  0.7423713803291321,\n",
       "  0.7397930026054382,\n",
       "  0.7367914915084839,\n",
       "  0.7344768643379211,\n",
       "  0.7310022711753845,\n",
       "  0.7289735078811646,\n",
       "  0.7266775965690613,\n",
       "  0.7241355776786804,\n",
       "  0.7210942506790161,\n",
       "  0.7182213664054871,\n",
       "  0.7163131833076477,\n",
       "  0.7139922380447388,\n",
       "  0.7111498713493347,\n",
       "  0.7081431150436401,\n",
       "  0.7060989141464233,\n",
       "  0.7025519013404846,\n",
       "  0.7006787657737732],\n",
       " 'val_accuracy': [0.17499999701976776,\n",
       "  0.28333333134651184,\n",
       "  0.3166666626930237,\n",
       "  0.3916666805744171,\n",
       "  0.40833333134651184,\n",
       "  0.4000000059604645,\n",
       "  0.4583333432674408,\n",
       "  0.5,\n",
       "  0.4833333194255829,\n",
       "  0.4583333432674408,\n",
       "  0.5,\n",
       "  0.5583333373069763,\n",
       "  0.5416666865348816,\n",
       "  0.5416666865348816,\n",
       "  0.550000011920929,\n",
       "  0.550000011920929,\n",
       "  0.5583333373069763,\n",
       "  0.5666666626930237,\n",
       "  0.5833333134651184,\n",
       "  0.6000000238418579,\n",
       "  0.6083333492279053,\n",
       "  0.6083333492279053,\n",
       "  0.6083333492279053,\n",
       "  0.6166666746139526,\n",
       "  0.6166666746139526,\n",
       "  0.6333333253860474,\n",
       "  0.6416666507720947,\n",
       "  0.6499999761581421,\n",
       "  0.625,\n",
       "  0.625,\n",
       "  0.6333333253860474,\n",
       "  0.6333333253860474,\n",
       "  0.625,\n",
       "  0.6333333253860474,\n",
       "  0.6333333253860474,\n",
       "  0.6499999761581421,\n",
       "  0.6416666507720947,\n",
       "  0.6416666507720947,\n",
       "  0.6499999761581421,\n",
       "  0.6499999761581421,\n",
       "  0.6416666507720947,\n",
       "  0.6416666507720947,\n",
       "  0.6416666507720947,\n",
       "  0.6499999761581421,\n",
       "  0.6583333611488342,\n",
       "  0.6583333611488342,\n",
       "  0.6583333611488342,\n",
       "  0.6583333611488342,\n",
       "  0.6583333611488342,\n",
       "  0.6583333611488342,\n",
       "  0.6666666865348816,\n",
       "  0.675000011920929,\n",
       "  0.675000011920929,\n",
       "  0.675000011920929,\n",
       "  0.675000011920929,\n",
       "  0.675000011920929,\n",
       "  0.675000011920929,\n",
       "  0.675000011920929,\n",
       "  0.6833333373069763,\n",
       "  0.6833333373069763,\n",
       "  0.6833333373069763,\n",
       "  0.6833333373069763,\n",
       "  0.6833333373069763,\n",
       "  0.6833333373069763,\n",
       "  0.6833333373069763,\n",
       "  0.6833333373069763,\n",
       "  0.6833333373069763,\n",
       "  0.6916666626930237,\n",
       "  0.699999988079071,\n",
       "  0.699999988079071,\n",
       "  0.699999988079071,\n",
       "  0.699999988079071,\n",
       "  0.699999988079071,\n",
       "  0.699999988079071,\n",
       "  0.699999988079071,\n",
       "  0.7083333134651184,\n",
       "  0.7083333134651184,\n",
       "  0.7083333134651184,\n",
       "  0.7083333134651184,\n",
       "  0.7083333134651184,\n",
       "  0.7083333134651184,\n",
       "  0.7083333134651184,\n",
       "  0.7083333134651184,\n",
       "  0.7083333134651184,\n",
       "  0.7083333134651184,\n",
       "  0.7083333134651184,\n",
       "  0.7083333134651184,\n",
       "  0.7083333134651184,\n",
       "  0.7166666388511658,\n",
       "  0.7250000238418579,\n",
       "  0.7250000238418579,\n",
       "  0.7250000238418579,\n",
       "  0.7250000238418579,\n",
       "  0.7250000238418579,\n",
       "  0.7250000238418579,\n",
       "  0.7250000238418579,\n",
       "  0.7250000238418579,\n",
       "  0.7250000238418579,\n",
       "  0.7250000238418579,\n",
       "  0.7250000238418579]}"
      ]
     },
     "execution_count": 59,
     "metadata": {},
     "output_type": "execute_result"
    }
   ],
   "source": [
    "# Check the history object\n",
    "# history object is the output of .fit(). It's a dict that stores losses and metrics\n",
    "history.history"
   ]
  },
  {
   "cell_type": "code",
   "execution_count": 66,
   "metadata": {},
   "outputs": [
    {
     "name": "stderr",
     "output_type": "stream",
     "text": [
      "/tmp/ipykernel_8464/4036312267.py:5: SettingWithCopyWarning: \n",
      "A value is trying to be set on a copy of a slice from a DataFrame\n",
      "\n",
      "See the caveats in the documentation: https://pandas.pydata.org/pandas-docs/stable/user_guide/indexing.html#returning-a-view-versus-a-copy\n",
      "  df_loss.rename(columns={'loss':'train','val_loss':'validation'},inplace=True)\n",
      "/tmp/ipykernel_8464/4036312267.py:7: SettingWithCopyWarning: \n",
      "A value is trying to be set on a copy of a slice from a DataFrame\n",
      "\n",
      "See the caveats in the documentation: https://pandas.pydata.org/pandas-docs/stable/user_guide/indexing.html#returning-a-view-versus-a-copy\n",
      "  df_acc.rename(columns={'accuracy':'train','val_accuracy':'validation'},inplace=True)\n"
     ]
    },
    {
     "data": {
      "text/plain": [
       "[Text(0.5, 0, 'Epoch'), Text(0, 0.5, 'Accuracy')]"
      ]
     },
     "execution_count": 66,
     "metadata": {},
     "output_type": "execute_result"
    },
    {
     "data": {
      "image/png": "[encoded data removed]",
      "text/plain": [
       "<Figure size 500x300 with 1 Axes>"
      ]
     },
     "metadata": {},
     "output_type": "display_data"
    },
    {
     "data": {
      "image/png": "[encoded data removed]",
      "text/plain": [
       "<Figure size 500x300 with 1 Axes>"
      ]
     },
     "metadata": {},
     "output_type": "display_data"
    }
   ],
   "source": [
    "# The history.history[\"loss\"] entry is a dictionary with as many values as epochs that the\n",
    "# model was trained on. \n",
    "df_loss_acc = pd.DataFrame(history.history)\n",
    "df_loss= df_loss_acc[['loss','val_loss']]\n",
    "df_loss.rename(columns={'loss':'train','val_loss':'validation'},inplace=True)\n",
    "df_acc= df_loss_acc[['accuracy','val_accuracy']]\n",
    "df_acc.rename(columns={'accuracy':'train','val_accuracy':'validation'},inplace=True)\n",
    "df_loss.plot(title='Model loss',figsize=(5,3)).set(xlabel='Epoch',ylabel='Loss')\n",
    "df_acc.plot(title='Model Accuracy',figsize=(5,3)).set(xlabel='Epoch',ylabel='Accuracy')"
   ]
  },
  {
   "cell_type": "code",
   "execution_count": null,
   "metadata": {},
   "outputs": [],
   "source": []
  }
 ],
 "metadata": {
  "celltoolbar": "Edit Metadata",
  "coursera": {
   "course_slug": "convolutional-neural-networks",
   "graded_item_id": "bwbJV",
   "launcher_item_id": "0TkXB"
  },
  "kernelspec": {
   "display_name": "Python 3 (ipykernel)",
   "language": "python",
   "name": "python3"
  },
  "language_info": {
   "codemirror_mode": {
    "name": "ipython",
    "version": 3
   },
   "file_extension": ".py",
   "mimetype": "text/x-python",
   "name": "python",
   "nbconvert_exporter": "python",
   "pygments_lexer": "ipython3",
   "version": "3.10.6"
  }
 },
 "nbformat": 4,
 "nbformat_minor": 2
}
