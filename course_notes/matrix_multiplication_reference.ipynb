{
  "metadata": {
    "language_info": {
      "codemirror_mode": {
        "name": "python",
        "version": 3
      },
      "file_extension": ".py",
      "mimetype": "text/x-python",
      "name": "python",
      "nbconvert_exporter": "python",
      "pygments_lexer": "ipython3",
      "version": "3.8"
    },
    "kernelspec": {
      "name": "python",
      "display_name": "Python (Pyodide)",
      "language": "python"
    }
  },
  "nbformat_minor": 4,
  "nbformat": 4,
  "cells": [
    {
      "cell_type": "code",
      "source": "import numpy as np\n\nA = np.array([[1], [2], [3]])\nA_1d = A.flatten()\nC = np.array([[1, 4, 2], [2, 7, 3], [3, 5, 8], [2, 1, 0]])\n\nprint(\"A:\\n\", A, \"\\nA_1d:\\n\", A_1d, \"\\nA.T:\\n\", A.T)\nprint(\"C:\\n\", C,\"\\nC.T:\\n\", C.T)\nprint(\"\\n\")\nprint(\"■ np.dot(A_1d,A_1d):\",np.dot(A_1d,A_1d),\"\\n dot product is usually used with 1D (rank1) arrays\\n\\\n  It will behave as matmul if used with 2d arrays\\n\")\n\nprint(\"■ A*C | np.matmul(A,C) | np.dot(A,C) | np.multiply(A,C):\\n\\\n  All Don't work cuz (3,1)x(4,3)\\n\")\n\nprint(\"■ C*A | np.multiply(C, A): Doesn't work (4,3)x(3,1)\")\nprint(\"■ np.matmul(C,A):\\n(4,3)x(3,1)=(4,1) good old matrix multiplication\\nWhat's needed to get the Z vector when C is weights and A is X (features of one example)\\n\", np.matmul(C,A))\nprint(\"■ np.dot(C, A):\\nSame result as matmul in this case\\n\", np.dot(C, A), \"\\n\")\n\nprint(\"■ A.T *C (np.multiply(A.T, C)):\\n(1,3)x(4,3):A.T gets broadcasted and element-wise multiplication takes place)\\n\", A.T * C)\nprint(\"■ np.matmul(A.T, C) | np.dot(A.T,C):\\nDoesn't work cuz (1,3)x(4,3)\\n\")\n\nprint(\"■ C*A.T (np.multiply(C, A.T)):\\n(4,3)x(1,3): Same as A.T * C\\nA.T gets broadcasted and element-wise multiplication takes place)\\n\", C*A.T)\nprint(\"■ np.matmul(C, A.T) | np.dot(C, A.T):\\nDoesn't work cuz (4,3)x(1,3)\\n\")\n\nprint(\"■ C.T*A (np.multiply(C.T, A)):\\n(3,4)x(3,1): A gets broadcasted and element-wise multiplication takes place)\\n\", C.T*A)\nprint(\"■ np.matmul(C.T, A) | np.dot(C, A.T):\\nDoesn't work cuz (3,4)x(3,1)\\n\")\n\nprint(\"■ A*C.T (np.multiply(A, C.T)):\\n(3,1)x(3,4)\\n\", np.multiply(A, C.T))\nprint(\"■ np.matmul(A, C.T) | np.dot(A, C.T):\\nDoesn't work cuz (3,1)x(3,4)\\n\")\n\nprint(\"A*A.T\\n\", A*A.T)\nprint(\"np.matmul(A, A.T)\\n\", np.matmul(A, A.T))\nprint(\"np.dot(A,A.T)\\n\", np.dot(A,A.T))\n\nprint(\"A*A\\n\", A*A)\n\n",
      "metadata": {
        "trusted": true
      },
      "execution_count": 1,
      "outputs": [
        {
          "name": "stdout",
          "text": "A:\n [[1]\n [2]\n [3]] \nA_1d:\n [1 2 3] \nA.T:\n [[1 2 3]]\nC:\n [[1 4 2]\n [2 7 3]\n [3 5 8]\n [2 1 0]] \nC.T:\n [[1 2 3 2]\n [4 7 5 1]\n [2 3 8 0]]\n\n\n■ np.dot(A_1d,A_1d): 14 \n dot product is usually used with 1D (rank1) arrays\n  It will behave as matmul if used with 2d arrays\n\n■ A*C | np.matmul(A,C) | np.dot(A,C) | np.multiply(A,C):\n  All Don't work cuz (3,1)x(4,3)\n\n■ C*A | np.multiply(C, A): Doesn't work (4,3)x(3,1)\n■ np.matmul(C,A):\n(4,3)x(3,1)=(4,1) good old matrix multiplication\nWhat's needed to get the Z vector when C is weights and A is X (features of one example)\n [[15]\n [25]\n [37]\n [ 4]]\n■ np.dot(C, A):\nSame result as matmul in this case\n [[15]\n [25]\n [37]\n [ 4]] \n\n■ A.T *C (np.multiply(A.T, C)):\n(1,3)x(4,3):A.T gets broadcasted and element-wise multiplication takes place)\n [[ 1  8  6]\n [ 2 14  9]\n [ 3 10 24]\n [ 2  2  0]]\n■ np.matmul(A.T, C) | np.dot(A.T,C):\nDoesn't work cuz (1,3)x(4,3)\n\n■ C*A.T (np.multiply(C, A.T)):\n(4,3)x(1,3): Same as A.T * C\nA.T gets broadcasted and element-wise multiplication takes place)\n [[ 1  8  6]\n [ 2 14  9]\n [ 3 10 24]\n [ 2  2  0]]\n■ np.matmul(C, A.T) | np.dot(C, A.T):\nDoesn't work cuz (4,3)x(1,3)\n\n■ C.T*A (np.multiply(C.T, A)):\n(3,4)x(3,1): A gets broadcasted and element-wise multiplication takes place)\n [[ 1  2  3  2]\n [ 8 14 10  2]\n [ 6  9 24  0]]\n■ np.matmul(C.T, A) | np.dot(C, A.T):\nDoesn't work cuz (3,4)x(3,1)\n\n■ A*C.T (np.multiply(A, C.T)):\n(3,1)x(3,4)\n [[ 1  2  3  2]\n [ 8 14 10  2]\n [ 6  9 24  0]]\n■ np.matmul(A, C.T) | np.dot(A, C.T):\nDoesn't work cuz (3,1)x(3,4)\n\nA*A.T\n [[1 2 3]\n [2 4 6]\n [3 6 9]]\nnp.matmul(A, A.T)\n [[1 2 3]\n [2 4 6]\n [3 6 9]]\nnp.dot(A,A.T)\n [[1 2 3]\n [2 4 6]\n [3 6 9]]\nA*A\n [[1]\n [4]\n [9]]\n",
          "output_type": "stream"
        }
      ]
    },
    {
      "cell_type": "code",
      "source": "",
      "metadata": {},
      "execution_count": null,
      "outputs": []
    }
  ]
}