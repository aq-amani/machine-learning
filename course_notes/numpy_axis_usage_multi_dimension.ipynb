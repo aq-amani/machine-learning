{
 "cells": [
  {
   "cell_type": "markdown",
   "id": "d76c2f5e",
   "metadata": {},
   "source": [
    "## Understanding axis usage in multi-dimensional arrays"
   ]
  },
  {
   "cell_type": "code",
   "execution_count": 1,
   "id": "953807c1",
   "metadata": {},
   "outputs": [
    {
     "name": "stdout",
     "output_type": "stream",
     "text": [
      "(2, 4, 3)\n",
      "(5, 3)\n",
      "(5, 2, 4)\n"
     ]
    }
   ],
   "source": [
    "import numpy as np\n",
    "\n",
    "# Assume an array of images\n",
    "imgs = np.ones((5,2,4,3)) # 5 images each hxw:2x4 and x3 channels\n",
    "\n",
    "# Average image. Gives one average 3-channeled image\n",
    "avg_img = np.mean(imgs, axis=0)\n",
    "\n",
    "# Average of pixels on each channel separately. Gives x5 images each with one avg pixel in each channel  \n",
    "avg_pixel_per_channel = np.mean(imgs, axis=(1,2))\n",
    "\n",
    "# Flatten each image to its channels average. Gives x5 images each with one avg channel\n",
    "avg_flat_chnl = np.mean(imgs, axis=3)\n",
    "\n",
    "print(avg_img.shape)\n",
    "print(avg_pixel_per_channel.shape)\n",
    "print(avg_flat_chnl.shape)"
   ]
  },
  {
   "cell_type": "code",
   "execution_count": null,
   "id": "2debd62c",
   "metadata": {},
   "outputs": [],
   "source": []
  }
 ],
 "metadata": {
  "kernelspec": {
   "display_name": "Python 3 (ipykernel)",
   "language": "python",
   "name": "python3"
  },
  "language_info": {
   "codemirror_mode": {
    "name": "ipython",
    "version": 3
   },
   "file_extension": ".py",
   "mimetype": "text/x-python",
   "name": "python",
   "nbconvert_exporter": "python",
   "pygments_lexer": "ipython3",
   "version": "3.10.6"
  }
 },
 "nbformat": 4,
 "nbformat_minor": 5
}
